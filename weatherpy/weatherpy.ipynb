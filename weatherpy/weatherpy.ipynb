{
 "cells": [
  {
   "cell_type": "markdown",
   "metadata": {},
   "source": [
    "# Observable Trends:\n",
    "1) The strongest correlation is between latitude and temperature, as expected\n",
    "\n",
    "2) The data from cloudiness from openweather appear to be often rounded to the nearest 5 or 10%\n",
    "\n",
    "3) There is loose correlation between humidity and latitude, with higher humidity tending to be near the equator"
   ]
  },
  {
   "cell_type": "code",
   "execution_count": 360,
   "metadata": {},
   "outputs": [],
   "source": [
    "import matplotlib.pyplot as plt\n",
    "from citipy import citipy\n",
    "import numpy as np\n",
    "import pandas as pd\n",
    "import requests\n",
    "from configapikey import gkey\n",
    "import json\n",
    "import random\n",
    "import seaborn as sbn"
   ]
  },
  {
   "cell_type": "markdown",
   "metadata": {},
   "source": [
    "# Generate 1,600 random latitudes and longitudes in attempt to disperse around globe.  1,600 is >> 500 because of duplicate nearby cities from citipy and failed api calls to openweather."
   ]
  },
  {
   "cell_type": "code",
   "execution_count": 361,
   "metadata": {},
   "outputs": [
    {
     "data": {
      "text/html": [
       "<div>\n",
       "<style>\n",
       "    .dataframe thead tr:only-child th {\n",
       "        text-align: right;\n",
       "    }\n",
       "\n",
       "    .dataframe thead th {\n",
       "        text-align: left;\n",
       "    }\n",
       "\n",
       "    .dataframe tbody tr th {\n",
       "        vertical-align: top;\n",
       "    }\n",
       "</style>\n",
       "<table border=\"1\" class=\"dataframe\">\n",
       "  <thead>\n",
       "    <tr style=\"text-align: right;\">\n",
       "      <th></th>\n",
       "      <th>Lat</th>\n",
       "      <th>Lon</th>\n",
       "    </tr>\n",
       "  </thead>\n",
       "  <tbody>\n",
       "    <tr>\n",
       "      <th>0</th>\n",
       "      <td>69.4125</td>\n",
       "      <td>-2.925</td>\n",
       "    </tr>\n",
       "    <tr>\n",
       "      <th>1</th>\n",
       "      <td>-5.9625</td>\n",
       "      <td>-156.825</td>\n",
       "    </tr>\n",
       "    <tr>\n",
       "      <th>2</th>\n",
       "      <td>-65.9250</td>\n",
       "      <td>58.725</td>\n",
       "    </tr>\n",
       "    <tr>\n",
       "      <th>3</th>\n",
       "      <td>-4.5000</td>\n",
       "      <td>78.300</td>\n",
       "    </tr>\n",
       "    <tr>\n",
       "      <th>4</th>\n",
       "      <td>51.3000</td>\n",
       "      <td>164.925</td>\n",
       "    </tr>\n",
       "  </tbody>\n",
       "</table>\n",
       "</div>"
      ],
      "text/plain": [
       "       Lat      Lon\n",
       "0  69.4125   -2.925\n",
       "1  -5.9625 -156.825\n",
       "2 -65.9250   58.725\n",
       "3  -4.5000   78.300\n",
       "4  51.3000  164.925"
      ]
     },
     "execution_count": 361,
     "metadata": {},
     "output_type": "execute_result"
    }
   ],
   "source": [
    "\n",
    "LatList=random.sample(range(0, 1600), 1600)\n",
    "LatList=pd.DataFrame(LatList)\n",
    "for i in LatList:\n",
    "    float(i)\n",
    "    LatList[0]=LatList[0]*180/1600-90\n",
    "LatList.rename(columns={0:'Lat'}, inplace=True)\n",
    "    \n",
    "\n",
    "LonList=random.sample(range(0, 1600), 1600)\n",
    "LonList=pd.DataFrame(LonList)\n",
    "for i in LonList:\n",
    "    float(i)\n",
    "    LonList[0]=LonList[0]*360/1600-180\n",
    "LonList.rename(columns={0:'Lon'}, inplace=True)\n",
    "\n",
    "#LatList=LatList/180\n",
    "LatLon = pd.concat([LatList, LonList], axis=1)\n",
    "#LatLon[\"City\"]=\"\"\n",
    "LatLon.head()"
   ]
  },
  {
   "cell_type": "markdown",
   "metadata": {},
   "source": [
    "# For each random lat/lon pair, find nearest city using citipy"
   ]
  },
  {
   "cell_type": "code",
   "execution_count": 362,
   "metadata": {},
   "outputs": [
    {
     "data": {
      "text/html": [
       "<div>\n",
       "<style>\n",
       "    .dataframe thead tr:only-child th {\n",
       "        text-align: right;\n",
       "    }\n",
       "\n",
       "    .dataframe thead th {\n",
       "        text-align: left;\n",
       "    }\n",
       "\n",
       "    .dataframe tbody tr th {\n",
       "        vertical-align: top;\n",
       "    }\n",
       "</style>\n",
       "<table border=\"1\" class=\"dataframe\">\n",
       "  <thead>\n",
       "    <tr style=\"text-align: right;\">\n",
       "      <th></th>\n",
       "      <th>Lat</th>\n",
       "      <th>Lon</th>\n",
       "      <th>City</th>\n",
       "    </tr>\n",
       "  </thead>\n",
       "  <tbody>\n",
       "    <tr>\n",
       "      <th>0</th>\n",
       "      <td>69.4125</td>\n",
       "      <td>-2.925</td>\n",
       "      <td>klaksvik</td>\n",
       "    </tr>\n",
       "    <tr>\n",
       "      <th>1</th>\n",
       "      <td>-5.9625</td>\n",
       "      <td>-156.825</td>\n",
       "      <td>faanui</td>\n",
       "    </tr>\n",
       "    <tr>\n",
       "      <th>2</th>\n",
       "      <td>-65.9250</td>\n",
       "      <td>58.725</td>\n",
       "      <td>taolanaro</td>\n",
       "    </tr>\n",
       "    <tr>\n",
       "      <th>3</th>\n",
       "      <td>-4.5000</td>\n",
       "      <td>78.300</td>\n",
       "      <td>hithadhoo</td>\n",
       "    </tr>\n",
       "    <tr>\n",
       "      <th>4</th>\n",
       "      <td>51.3000</td>\n",
       "      <td>164.925</td>\n",
       "      <td>nikolskoye</td>\n",
       "    </tr>\n",
       "  </tbody>\n",
       "</table>\n",
       "</div>"
      ],
      "text/plain": [
       "       Lat      Lon        City\n",
       "0  69.4125   -2.925    klaksvik\n",
       "1  -5.9625 -156.825      faanui\n",
       "2 -65.9250   58.725   taolanaro\n",
       "3  -4.5000   78.300   hithadhoo\n",
       "4  51.3000  164.925  nikolskoye"
      ]
     },
     "execution_count": 362,
     "metadata": {},
     "output_type": "execute_result"
    }
   ],
   "source": [
    "City=pd.DataFrame(index=range(0,1600),columns=['City'])\n",
    "\n",
    "for x in range(0,1600):\n",
    "    City[\"City\"][x]= citipy.nearest_city(LatLon['Lat'][x], LatLon['Lon'][x]).city_name\n",
    "LatLon = pd.concat([LatLon, City], axis=1)\n",
    "LatLon.head()\n"
   ]
  },
  {
   "cell_type": "code",
   "execution_count": 363,
   "metadata": {},
   "outputs": [
    {
     "data": {
      "text/html": [
       "<div>\n",
       "<style>\n",
       "    .dataframe thead tr:only-child th {\n",
       "        text-align: right;\n",
       "    }\n",
       "\n",
       "    .dataframe thead th {\n",
       "        text-align: left;\n",
       "    }\n",
       "\n",
       "    .dataframe tbody tr th {\n",
       "        vertical-align: top;\n",
       "    }\n",
       "</style>\n",
       "<table border=\"1\" class=\"dataframe\">\n",
       "  <thead>\n",
       "    <tr style=\"text-align: right;\">\n",
       "      <th></th>\n",
       "      <th>Lat</th>\n",
       "      <th>Lon</th>\n",
       "      <th>City</th>\n",
       "    </tr>\n",
       "  </thead>\n",
       "  <tbody>\n",
       "    <tr>\n",
       "      <th>0</th>\n",
       "      <td>69.4125</td>\n",
       "      <td>-2.925</td>\n",
       "      <td>klaksvik</td>\n",
       "    </tr>\n",
       "    <tr>\n",
       "      <th>1</th>\n",
       "      <td>-5.9625</td>\n",
       "      <td>-156.825</td>\n",
       "      <td>faanui</td>\n",
       "    </tr>\n",
       "    <tr>\n",
       "      <th>2</th>\n",
       "      <td>-65.9250</td>\n",
       "      <td>58.725</td>\n",
       "      <td>taolanaro</td>\n",
       "    </tr>\n",
       "    <tr>\n",
       "      <th>3</th>\n",
       "      <td>-4.5000</td>\n",
       "      <td>78.300</td>\n",
       "      <td>hithadhoo</td>\n",
       "    </tr>\n",
       "    <tr>\n",
       "      <th>4</th>\n",
       "      <td>51.3000</td>\n",
       "      <td>164.925</td>\n",
       "      <td>nikolskoye</td>\n",
       "    </tr>\n",
       "  </tbody>\n",
       "</table>\n",
       "</div>"
      ],
      "text/plain": [
       "       Lat      Lon        City\n",
       "0  69.4125   -2.925    klaksvik\n",
       "1  -5.9625 -156.825      faanui\n",
       "2 -65.9250   58.725   taolanaro\n",
       "3  -4.5000   78.300   hithadhoo\n",
       "4  51.3000  164.925  nikolskoye"
      ]
     },
     "execution_count": 363,
     "metadata": {},
     "output_type": "execute_result"
    }
   ],
   "source": [
    "#  Eliminate duplicate cities\n",
    "\n",
    "LatLon.set_index(\"City\")\n",
    "UniqueCities = LatLon.drop_duplicates(subset='City')\n",
    "UniqueCities=UniqueCities.reset_index(drop=True)\n",
    "UniqueCities.head()"
   ]
  },
  {
   "cell_type": "code",
   "execution_count": 364,
   "metadata": {},
   "outputs": [
    {
     "data": {
      "text/plain": [
       "{'base': 'stations',\n",
       " 'clouds': {'all': 0},\n",
       " 'cod': 200,\n",
       " 'coord': {'lat': 11.14, 'lon': 123.72},\n",
       " 'dt': 1521526883,\n",
       " 'id': 1685422,\n",
       " 'main': {'grnd_level': 1022.64,\n",
       "  'humidity': 100,\n",
       "  'pressure': 1022.64,\n",
       "  'sea_level': 1022.68,\n",
       "  'temp': 82.82,\n",
       "  'temp_max': 82.82,\n",
       "  'temp_min': 82.82},\n",
       " 'name': 'Sulangan',\n",
       " 'sys': {'country': 'PH',\n",
       "  'message': 0.0028,\n",
       "  'sunrise': 1521496166,\n",
       "  'sunset': 1521539755},\n",
       " 'weather': [{'description': 'clear sky',\n",
       "   'icon': '01d',\n",
       "   'id': 800,\n",
       "   'main': 'Clear'}],\n",
       " 'wind': {'deg': 34.5016, 'speed': 7.43}}"
      ]
     },
     "execution_count": 364,
     "metadata": {},
     "output_type": "execute_result"
    }
   ],
   "source": [
    "weather_json"
   ]
  },
  {
   "cell_type": "code",
   "execution_count": 365,
   "metadata": {},
   "outputs": [
    {
     "data": {
      "text/html": [
       "<div>\n",
       "<style>\n",
       "    .dataframe thead tr:only-child th {\n",
       "        text-align: right;\n",
       "    }\n",
       "\n",
       "    .dataframe thead th {\n",
       "        text-align: left;\n",
       "    }\n",
       "\n",
       "    .dataframe tbody tr th {\n",
       "        vertical-align: top;\n",
       "    }\n",
       "</style>\n",
       "<table border=\"1\" class=\"dataframe\">\n",
       "  <thead>\n",
       "    <tr style=\"text-align: right;\">\n",
       "      <th></th>\n",
       "      <th>Lat</th>\n",
       "      <th>Lon</th>\n",
       "      <th>City</th>\n",
       "    </tr>\n",
       "  </thead>\n",
       "  <tbody>\n",
       "    <tr>\n",
       "      <th>0</th>\n",
       "      <td>69.4125</td>\n",
       "      <td>-2.925</td>\n",
       "      <td>klaksvik</td>\n",
       "    </tr>\n",
       "    <tr>\n",
       "      <th>1</th>\n",
       "      <td>-5.9625</td>\n",
       "      <td>-156.825</td>\n",
       "      <td>faanui</td>\n",
       "    </tr>\n",
       "    <tr>\n",
       "      <th>2</th>\n",
       "      <td>-65.9250</td>\n",
       "      <td>58.725</td>\n",
       "      <td>taolanaro</td>\n",
       "    </tr>\n",
       "    <tr>\n",
       "      <th>3</th>\n",
       "      <td>-4.5000</td>\n",
       "      <td>78.300</td>\n",
       "      <td>hithadhoo</td>\n",
       "    </tr>\n",
       "    <tr>\n",
       "      <th>4</th>\n",
       "      <td>51.3000</td>\n",
       "      <td>164.925</td>\n",
       "      <td>nikolskoye</td>\n",
       "    </tr>\n",
       "  </tbody>\n",
       "</table>\n",
       "</div>"
      ],
      "text/plain": [
       "       Lat      Lon        City\n",
       "0  69.4125   -2.925    klaksvik\n",
       "1  -5.9625 -156.825      faanui\n",
       "2 -65.9250   58.725   taolanaro\n",
       "3  -4.5000   78.300   hithadhoo\n",
       "4  51.3000  164.925  nikolskoye"
      ]
     },
     "execution_count": 365,
     "metadata": {},
     "output_type": "execute_result"
    }
   ],
   "source": [
    "UniqueCities.head()\n"
   ]
  },
  {
   "cell_type": "markdown",
   "metadata": {},
   "source": [
    "# Pull Data from OpenWeather, 1 City at a Time"
   ]
  },
  {
   "cell_type": "code",
   "execution_count": 366,
   "metadata": {},
   "outputs": [
    {
     "data": {
      "text/html": [
       "<div>\n",
       "<style>\n",
       "    .dataframe thead tr:only-child th {\n",
       "        text-align: right;\n",
       "    }\n",
       "\n",
       "    .dataframe thead th {\n",
       "        text-align: left;\n",
       "    }\n",
       "\n",
       "    .dataframe tbody tr th {\n",
       "        vertical-align: top;\n",
       "    }\n",
       "</style>\n",
       "<table border=\"1\" class=\"dataframe\">\n",
       "  <thead>\n",
       "    <tr style=\"text-align: right;\">\n",
       "      <th></th>\n",
       "      <th>Lat</th>\n",
       "      <th>Lon</th>\n",
       "      <th>City</th>\n",
       "      <th>LatReal</th>\n",
       "      <th>Temperature</th>\n",
       "      <th>Humidity</th>\n",
       "      <th>Cloudiness</th>\n",
       "      <th>Wind_Speed</th>\n",
       "    </tr>\n",
       "  </thead>\n",
       "  <tbody>\n",
       "    <tr>\n",
       "      <th>0</th>\n",
       "      <td>69.4125</td>\n",
       "      <td>-2.925</td>\n",
       "      <td>klaksvik</td>\n",
       "      <td>62.23</td>\n",
       "      <td>39.2</td>\n",
       "      <td>98</td>\n",
       "      <td>36</td>\n",
       "      <td>16.11</td>\n",
       "    </tr>\n",
       "    <tr>\n",
       "      <th>1</th>\n",
       "      <td>-5.9625</td>\n",
       "      <td>-156.825</td>\n",
       "      <td>faanui</td>\n",
       "      <td>-16.48</td>\n",
       "      <td>80.21</td>\n",
       "      <td>100</td>\n",
       "      <td>44</td>\n",
       "      <td>17.6</td>\n",
       "    </tr>\n",
       "    <tr>\n",
       "      <th>2</th>\n",
       "      <td>-65.9250</td>\n",
       "      <td>58.725</td>\n",
       "      <td>taolanaro</td>\n",
       "      <td>NA</td>\n",
       "      <td></td>\n",
       "      <td></td>\n",
       "      <td></td>\n",
       "      <td></td>\n",
       "    </tr>\n",
       "    <tr>\n",
       "      <th>3</th>\n",
       "      <td>-4.5000</td>\n",
       "      <td>78.300</td>\n",
       "      <td>hithadhoo</td>\n",
       "      <td>-0.6</td>\n",
       "      <td>85.25</td>\n",
       "      <td>99</td>\n",
       "      <td>0</td>\n",
       "      <td>13.24</td>\n",
       "    </tr>\n",
       "    <tr>\n",
       "      <th>4</th>\n",
       "      <td>51.3000</td>\n",
       "      <td>164.925</td>\n",
       "      <td>nikolskoye</td>\n",
       "      <td>59.7</td>\n",
       "      <td>26.6</td>\n",
       "      <td>92</td>\n",
       "      <td>90</td>\n",
       "      <td>8.95</td>\n",
       "    </tr>\n",
       "  </tbody>\n",
       "</table>\n",
       "</div>"
      ],
      "text/plain": [
       "       Lat      Lon        City LatReal Temperature Humidity Cloudiness  \\\n",
       "0  69.4125   -2.925    klaksvik   62.23        39.2       98         36   \n",
       "1  -5.9625 -156.825      faanui  -16.48       80.21      100         44   \n",
       "2 -65.9250   58.725   taolanaro      NA                                   \n",
       "3  -4.5000   78.300   hithadhoo    -0.6       85.25       99          0   \n",
       "4  51.3000  164.925  nikolskoye    59.7        26.6       92         90   \n",
       "\n",
       "  Wind_Speed  \n",
       "0      16.11  \n",
       "1       17.6  \n",
       "2             \n",
       "3      13.24  \n",
       "4       8.95  "
      ]
     },
     "execution_count": 366,
     "metadata": {},
     "output_type": "execute_result"
    }
   ],
   "source": [
    "# Save config information\n",
    "url = \"http://api.openweathermap.org/data/2.5/weather?\"\n",
    "\n",
    "\n",
    "\n",
    "\n",
    "# Replace nearby Latitude with actual Latitude and get weather data\n",
    "UniqueCities[\"LatReal\"]=\"\"\n",
    "UniqueCities[\"Temperature\"]=\"\"\n",
    "UniqueCities[\"Humidity\"]=\"\"\n",
    "UniqueCities[\"Cloudiness\"]=\"\"\n",
    "UniqueCities[\"Wind_Speed\"]=\"\"\n",
    "\n",
    "for x in range(0,len(UniqueCities)):\n",
    "    \n",
    "    ThisCity=UniqueCities['City'][x]\n",
    "    query_url = url + \"appid=\" + gkey + \"&q=\" + ThisCity + \"&units=imperial\"\n",
    "    \n",
    "    weather_response = requests.get(query_url)\n",
    "    weather_json = weather_response.json()\n",
    "\n",
    "   #  Bypass \"city not found\"    \n",
    "    if weather_response.status_code==404:\n",
    "        UniqueCities.loc[x,('LatReal')] = \"NA\"\n",
    "    else: \n",
    "        UniqueCities.loc[x,('LatReal')] = weather_json['coord']['lat']\n",
    "        UniqueCities.loc[x,('Temperature')] = weather_json['main']['temp']\n",
    "        UniqueCities.loc[x,('Humidity')] = weather_json['main']['humidity']\n",
    "        UniqueCities.loc[x,('Cloudiness')] = weather_json['clouds']['all']\n",
    "        UniqueCities.loc[x,('Wind_Speed')] = weather_json['wind']['speed']\n",
    "UniqueCities.head()\n",
    "\n",
    "\n",
    "\n",
    "\n",
    "\n",
    "\n"
   ]
  },
  {
   "cell_type": "code",
   "execution_count": 367,
   "metadata": {},
   "outputs": [
    {
     "name": "stdout",
     "output_type": "stream",
     "text": [
      "584\n"
     ]
    },
    {
     "data": {
      "text/html": [
       "<div>\n",
       "<style>\n",
       "    .dataframe thead tr:only-child th {\n",
       "        text-align: right;\n",
       "    }\n",
       "\n",
       "    .dataframe thead th {\n",
       "        text-align: left;\n",
       "    }\n",
       "\n",
       "    .dataframe tbody tr th {\n",
       "        vertical-align: top;\n",
       "    }\n",
       "</style>\n",
       "<table border=\"1\" class=\"dataframe\">\n",
       "  <thead>\n",
       "    <tr style=\"text-align: right;\">\n",
       "      <th></th>\n",
       "      <th>Lat</th>\n",
       "      <th>Lon</th>\n",
       "      <th>City</th>\n",
       "      <th>LatReal</th>\n",
       "      <th>Temperature</th>\n",
       "      <th>Humidity</th>\n",
       "      <th>Cloudiness</th>\n",
       "      <th>Wind_Speed</th>\n",
       "    </tr>\n",
       "  </thead>\n",
       "  <tbody>\n",
       "    <tr>\n",
       "      <th>0</th>\n",
       "      <td>69.4125</td>\n",
       "      <td>-2.925</td>\n",
       "      <td>klaksvik</td>\n",
       "      <td>62.23</td>\n",
       "      <td>39.2</td>\n",
       "      <td>98.0</td>\n",
       "      <td>36</td>\n",
       "      <td>16.11</td>\n",
       "    </tr>\n",
       "    <tr>\n",
       "      <th>1</th>\n",
       "      <td>-5.9625</td>\n",
       "      <td>-156.825</td>\n",
       "      <td>faanui</td>\n",
       "      <td>-16.48</td>\n",
       "      <td>80.21</td>\n",
       "      <td>100.0</td>\n",
       "      <td>44</td>\n",
       "      <td>17.6</td>\n",
       "    </tr>\n",
       "    <tr>\n",
       "      <th>3</th>\n",
       "      <td>-4.5000</td>\n",
       "      <td>78.300</td>\n",
       "      <td>hithadhoo</td>\n",
       "      <td>-0.6</td>\n",
       "      <td>85.25</td>\n",
       "      <td>99.0</td>\n",
       "      <td>0</td>\n",
       "      <td>13.24</td>\n",
       "    </tr>\n",
       "    <tr>\n",
       "      <th>4</th>\n",
       "      <td>51.3000</td>\n",
       "      <td>164.925</td>\n",
       "      <td>nikolskoye</td>\n",
       "      <td>59.7</td>\n",
       "      <td>26.6</td>\n",
       "      <td>92.0</td>\n",
       "      <td>90</td>\n",
       "      <td>8.95</td>\n",
       "    </tr>\n",
       "    <tr>\n",
       "      <th>5</th>\n",
       "      <td>86.4000</td>\n",
       "      <td>174.825</td>\n",
       "      <td>pevek</td>\n",
       "      <td>69.7</td>\n",
       "      <td>-16.1</td>\n",
       "      <td>48.0</td>\n",
       "      <td>12</td>\n",
       "      <td>7.2</td>\n",
       "    </tr>\n",
       "  </tbody>\n",
       "</table>\n",
       "</div>"
      ],
      "text/plain": [
       "       Lat      Lon        City LatReal Temperature  Humidity Cloudiness  \\\n",
       "0  69.4125   -2.925    klaksvik   62.23        39.2      98.0         36   \n",
       "1  -5.9625 -156.825      faanui  -16.48       80.21     100.0         44   \n",
       "3  -4.5000   78.300   hithadhoo    -0.6       85.25      99.0          0   \n",
       "4  51.3000  164.925  nikolskoye    59.7        26.6      92.0         90   \n",
       "5  86.4000  174.825       pevek    69.7       -16.1      48.0         12   \n",
       "\n",
       "  Wind_Speed  \n",
       "0      16.11  \n",
       "1       17.6  \n",
       "3      13.24  \n",
       "4       8.95  \n",
       "5        7.2  "
      ]
     },
     "execution_count": 367,
     "metadata": {},
     "output_type": "execute_result"
    }
   ],
   "source": [
    "# Eliminate \"bad\" data\n",
    "UniqueCities['Humidity'].replace('', np.nan, inplace=True)\n",
    "UniqueCities.dropna(subset=['Humidity'], inplace=True)\n",
    "print(len(UniqueCities))\n",
    "\n",
    "# Confirm > 500 Cities\n",
    "\n",
    "UniqueCities.head()"
   ]
  },
  {
   "cell_type": "markdown",
   "metadata": {},
   "source": [
    "# Plot Temp vs. Latitude"
   ]
  },
  {
   "cell_type": "code",
   "execution_count": 378,
   "metadata": {},
   "outputs": [
    {
     "data": {
      "image/png": "[encoded data removed]",
      "text/plain": [
       "<matplotlib.figure.Figure at 0x22af0c38860>"
      ]
     },
     "metadata": {},
     "output_type": "display_data"
    }
   ],
   "source": [
    "plt.title(\"City Latitude vs. Temperature\")\n",
    "plt.xlabel(\"City Latitude\")\n",
    "plt.ylabel(\"Temperature (Fahrenheit)\")\n",
    "sbn.set_style()\n",
    "plt.scatter(UniqueCities['Lat'], UniqueCities['Temperature'], marker=\"o\",facecolors=\"blue\", edgecolors=\"black\",)\n",
    "plt.show()\n",
    "plt.savefig('temperature.png')\n"
   ]
  },
  {
   "cell_type": "markdown",
   "metadata": {},
   "source": [
    "# Plot Humidity vs. Latitude"
   ]
  },
  {
   "cell_type": "code",
   "execution_count": 377,
   "metadata": {},
   "outputs": [
    {
     "data": {
      "image/png": "[encoded data removed]",
      "text/plain": [
       "<matplotlib.figure.Figure at 0x22af0c3b080>"
      ]
     },
     "metadata": {},
     "output_type": "display_data"
    }
   ],
   "source": [
    "plt.title(\"City Latitude vs. Humidity\")\n",
    "plt.xlabel(\"City Latitude\")\n",
    "plt.ylabel(\"Humidity (%)\")\n",
    "sbn.set_style()\n",
    "plt.scatter(UniqueCities['Lat'], UniqueCities['Humidity'], marker=\"o\",facecolors=\"blue\", edgecolors=\"black\",)\n",
    "plt.show()\n",
    "plt.savefig('humidity.png')"
   ]
  },
  {
   "cell_type": "markdown",
   "metadata": {},
   "source": [
    "# Plot Cloudiness vs. Latitude"
   ]
  },
  {
   "cell_type": "code",
   "execution_count": 376,
   "metadata": {},
   "outputs": [
    {
     "data": {
      "image/png": "[encoded data removed]",
      "text/plain": [
       "<matplotlib.figure.Figure at 0x22af1903dd8>"
      ]
     },
     "metadata": {},
     "output_type": "display_data"
    }
   ],
   "source": [
    "plt.title(\"City Latitude vs. Cloudiness\")\n",
    "plt.xlabel(\"City Latitude\")\n",
    "plt.ylabel(\"Cloudiness (%)\")\n",
    "sbn.set_style()\n",
    "plt.scatter(UniqueCities['Lat'], UniqueCities['Cloudiness'], marker=\"o\",facecolors=\"blue\", edgecolors=\"black\",)\n",
    "plt.show()\n",
    "plt.savefig('cloudiness.png')"
   ]
  },
  {
   "cell_type": "markdown",
   "metadata": {},
   "source": [
    "# Plot Wind Speed vs. Latitude"
   ]
  },
  {
   "cell_type": "code",
   "execution_count": 375,
   "metadata": {
    "scrolled": true
   },
   "outputs": [
    {
     "data": {
      "image/png": "[encoded data removed]",
      "text/plain": [
       "<matplotlib.figure.Figure at 0x22af1f02240>"
      ]
     },
     "metadata": {},
     "output_type": "display_data"
    }
   ],
   "source": [
    "plt.title(\"City Latitude vs. Wind Speed\")\n",
    "plt.xlabel(\"City Latitude\")\n",
    "plt.ylabel(\"Wind Speed (mph)\")\n",
    "sbn.set_style()\n",
    "plt.scatter(UniqueCities['Lat'], UniqueCities['Wind_Speed'], marker=\"o\",facecolors=\"blue\", edgecolors=\"black\",)\n",
    "plt.show()\n",
    "plt.savefig('windspeed.png')"
   ]
  },
  {
   "cell_type": "code",
   "execution_count": 372,
   "metadata": {
    "collapsed": true
   },
   "outputs": [],
   "source": [
    "UniqueCities.to_csv('CitiesData.csv')"
   ]
  },
  {
   "cell_type": "code",
   "execution_count": null,
   "metadata": {
    "collapsed": true
   },
   "outputs": [],
   "source": []
  }
 ],
 "metadata": {
  "kernelspec": {
   "display_name": "Python (PythonData)",
   "language": "python",
   "name": "pythondata"
  },
  "language_info": {
   "codemirror_mode": {
    "name": "ipython",
    "version": 3
   },
   "file_extension": ".py",
   "mimetype": "text/x-python",
   "name": "python",
   "nbconvert_exporter": "python",
   "pygments_lexer": "ipython3",
   "version": "3.6.3"
  }
 },
 "nbformat": 4,
 "nbformat_minor": 2
}
